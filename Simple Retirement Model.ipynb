{
 "cells": [
  {
   "cell_type": "markdown",
   "metadata": {},
   "source": [
    "# A Simple Retirement Model\n",
    "### An Introduction to Using Python for Financial Modeling"
   ]
  },
  {
   "cell_type": "markdown",
   "metadata": {},
   "source": [
    "## The Initial Model\n",
    "\n",
    "The initial problem is to determine the number of years to retirement based on the following info: \n",
    "- Salary\n",
    "- Savings rate\n",
    "- Investment rate\n",
    "- Desired cash\n"
   ]
  },
  {
   "cell_type": "markdown",
   "metadata": {},
   "source": [
    "### Define the Inputs\n",
    "Here I will just define the variables containing our input information. Please note that in Python, you must use decimals and not percentages. So 50% is 0.50. Typing 50% would be invalid. "
   ]
  },
  {
   "cell_type": "code",
   "execution_count": 100,
   "metadata": {},
   "outputs": [],
   "source": [
    "salary = 7760000\n",
    "savings_rate = 0.30\n",
    "investment_rate = 0.06\n",
    "desired_cash = 10000000"
   ]
  },
  {
   "cell_type": "markdown",
   "metadata": {},
   "source": [
    "### Determining Cash Saved\n",
    "\n",
    "First we need to calculate the annual amount of cash saved. It is simply the savings rate multiplied by the salary."
   ]
  },
  {
   "cell_type": "code",
   "execution_count": 101,
   "metadata": {},
   "outputs": [],
   "source": [
    "annual_cash = salary * savings_rate"
   ]
  },
  {
   "cell_type": "code",
   "execution_count": 102,
   "metadata": {},
   "outputs": [
    {
     "name": "stdout",
     "output_type": "stream",
     "text": [
      "2328000.0\n"
     ]
    }
   ],
   "source": [
    "print(annual_cash)"
   ]
  },
  {
   "cell_type": "markdown",
   "metadata": {},
   "source": [
    "To view what we calculated, either `print` it, or you can simply put it on the last line of a block to have Jupyter display it automatically. So both of these work:"
   ]
  },
  {
   "cell_type": "code",
   "execution_count": 103,
   "metadata": {
    "scrolled": true
   },
   "outputs": [
    {
     "name": "stdout",
     "output_type": "stream",
     "text": [
      "2328000.0\n"
     ]
    }
   ],
   "source": [
    "print(annual_cash)"
   ]
  },
  {
   "cell_type": "code",
   "execution_count": null,
   "metadata": {},
   "outputs": [],
   "source": []
  },
  {
   "cell_type": "markdown",
   "metadata": {},
   "source": [
    "Or we could have done it all in one block:"
   ]
  },
  {
   "cell_type": "code",
   "execution_count": 104,
   "metadata": {},
   "outputs": [
    {
     "data": {
      "text/plain": [
       "2328000.0"
      ]
     },
     "execution_count": 104,
     "metadata": {},
     "output_type": "execute_result"
    }
   ],
   "source": [
    "annual_cash = salary * savings_rate\n",
    "annual_cash"
   ]
  },
  {
   "cell_type": "markdown",
   "metadata": {},
   "source": [
    "### Calculating Years to Retirement\n",
    "\n",
    "Just as we have the `=NPER` function in Excel, we have an analagous function in the Python ecosystem. However it is not available in base Python. We need to load one of these modules which gives us extra functionality. The module we want for this is `numpy` which is one of the most popular modules, and includes a lot of math tools. It is already included in the Anaconda distribution of Python I had you install.\n",
    "\n",
    "To use functionality from a module, we must `import` that module before using it. We only need to run this `import` for the module once in a session and then we can keep using the module. Let's go ahead and import `numpy`."
   ]
  },
  {
   "cell_type": "code",
   "execution_count": 105,
   "metadata": {},
   "outputs": [],
   "source": [
    "import numpy as np\n",
    "import numpy_financial as npf"
   ]
  },
  {
   "cell_type": "markdown",
   "metadata": {},
   "source": [
    "There are a couple parts to that import. You always need the `import` keyword and the name of the module. But here we have also added `as np` which means that when we use the module, we will use it as `np.` instead of `numpy.`. This is simply to save a bit of typing, and the only reason I do it here is because `import numpy as np` is the convention for `numpy`, and if you Google for any examples they will all be doing this. It is not necessary to include the `as np` part."
   ]
  },
  {
   "cell_type": "markdown",
   "metadata": {},
   "source": [
    "The financial functions in `numpy` are named the same as in Excel. So the one we want is `np.nper`. Let's check out how to use it. We can get information on any Python object in Jupyter by putting it in a cell and adding a question mark at the end."
   ]
  },
  {
   "cell_type": "code",
   "execution_count": 106,
   "metadata": {},
   "outputs": [],
   "source": [
    "npf.nper?"
   ]
  },
  {
   "cell_type": "markdown",
   "metadata": {},
   "source": [
    "We can see we need to pass first the rate, then the payment, then the present value, then the future value. Let's give that a try."
   ]
  },
  {
   "cell_type": "code",
   "execution_count": 107,
   "metadata": {},
   "outputs": [
    {
     "data": {
      "text/plain": [
       "array(3.93537606)"
      ]
     },
     "execution_count": 107,
     "metadata": {},
     "output_type": "execute_result"
    }
   ],
   "source": [
    "years_to_retirement = npf.nper(investment_rate, -annual_cash, 0, desired_cash)\n",
    "years_to_retirement"
   ]
  },
  {
   "cell_type": "markdown",
   "metadata": {},
   "source": [
    "Let's give that a bit better formatting."
   ]
  },
  {
   "cell_type": "code",
   "execution_count": 108,
   "metadata": {},
   "outputs": [
    {
     "name": "stdout",
     "output_type": "stream",
     "text": [
      "Santosh has 3.9 years to retirement.\n"
     ]
    }
   ],
   "source": [
    "print(f'Santosh has {years_to_retirement:.1f} years to retirement.')"
   ]
  },
  {
   "cell_type": "markdown",
   "metadata": {},
   "source": [
    "## Multiple Interest Rates"
   ]
  },
  {
   "cell_type": "markdown",
   "metadata": {},
   "source": [
    "In Excel, we can use relative references and drag to do iteration. In Python, we use loops. Here we will use a `for` loop to say \"for each investment rate, tell me the years to retirement.\"\n",
    "\n",
    "First just create a list of the different investment rates."
   ]
  },
  {
   "cell_type": "code",
   "execution_count": 109,
   "metadata": {},
   "outputs": [],
   "source": [
    "investment_rates = [0.04, 0.05, 0.15, 0.30]"
   ]
  },
  {
   "cell_type": "markdown",
   "metadata": {},
   "source": [
    "We can see how the `for` loop works by first just printing each investment rate."
   ]
  },
  {
   "cell_type": "code",
   "execution_count": 110,
   "metadata": {},
   "outputs": [
    {
     "name": "stdout",
     "output_type": "stream",
     "text": [
      "0.04\n",
      "0.05\n",
      "0.15\n",
      "0.3\n"
     ]
    }
   ],
   "source": [
    "for i_rate in investment_rates:\n",
    "    print(i_rate)"
   ]
  },
  {
   "cell_type": "markdown",
   "metadata": {},
   "source": [
    "We can see that it printed three times, once for each rate. It iterated through each of the rates, and did what we had under the `for` loop. Now let's expand that to actually calculate the years to retirement."
   ]
  },
  {
   "cell_type": "code",
   "execution_count": 111,
   "metadata": {},
   "outputs": [
    {
     "name": "stdout",
     "output_type": "stream",
     "text": [
      "Santosh has 4.0 years to retirement if he earns a 4% return.\n",
      "Santosh has 4.0 years to retirement if he earns a 5% return.\n",
      "Santosh has 3.6 years to retirement if he earns a 15% return.\n",
      "Santosh has 3.2 years to retirement if he earns a 30% return.\n"
     ]
    }
   ],
   "source": [
    "for i_rate in investment_rates:\n",
    "    years_to_retirement = npf.nper(i_rate, -annual_cash, 0, desired_cash)\n",
    "    print(f'Santosh has {years_to_retirement:.1f} years to retirement if he earns a {i_rate:.0%} return.')"
   ]
  },
  {
   "cell_type": "markdown",
   "metadata": {},
   "source": [
    "We can see that the code is effectively the same as before, but all we did was put it under the `for` loop and pass each individual `i_rate` instead of the original `investment_rate`."
   ]
  }
 ],
 "metadata": {
  "kernelspec": {
   "display_name": "Python 3 (ipykernel)",
   "language": "python",
   "name": "python3"
  },
  "language_info": {
   "codemirror_mode": {
    "name": "ipython",
    "version": 3
   },
   "file_extension": ".py",
   "mimetype": "text/x-python",
   "name": "python",
   "nbconvert_exporter": "python",
   "pygments_lexer": "ipython3",
   "version": "3.9.12"
  }
 },
 "nbformat": 4,
 "nbformat_minor": 4
}
